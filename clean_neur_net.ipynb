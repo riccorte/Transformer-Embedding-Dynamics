{
 "cells": [
  {
   "cell_type": "code",
   "execution_count": null,
   "id": "9b3c7aeb",
   "metadata": {},
   "outputs": [],
   "source": [
    "# import all the necessary elements for thegpt2 models\n",
    "\n",
    "# show, given a prompt the initial value of the buffer, with the color visual, as well as the values before and after passing the FFNN\n",
    "\n",
    "# compare the resluts for each layer, and across different tokens with the bar plot on the side\n",
    "\n",
    "# show the distribution of the values in the buffer, how they change across layers, and how they change across tokens\n",
    "\n",
    "# using such distribution create an artificial buffer, 111000 and 1010101 to feed to the model and see how it behaves across layers, \n",
    "# and how it changes if I move the 1111 as if they were corresponding to different attention heads\n",
    "\n",
    "# Show visually how a buffer which was originally only a solid block gets shuffled by the model after normalization, FFNN, residual sum and final normalization\n",
    "# Show visually the difference between the buffer after the FFNN and the buffer after the residual sum by doing the difference\n",
    "\n",
    "# recreate the model block using the weights and biases from the original model\n",
    "\n",
    "# compare with the original one to show they are the same\n",
    "\n",
    "# show the influence of biases by removing those in the constructed model\n",
    "\n",
    "# show the histogram of neurons activation with and without biases\n"
   ]
  }
 ],
 "metadata": {
  "language_info": {
   "name": "python"
  }
 },
 "nbformat": 4,
 "nbformat_minor": 5
}
